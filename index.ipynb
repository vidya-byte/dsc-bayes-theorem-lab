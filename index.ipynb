{
 "cells": [
  {
   "cell_type": "markdown",
   "metadata": {},
   "source": [
    "# Bayes' Theorem - Lab\n",
    "\n",
    "## Introduction\n",
    "\n",
    "In this lab, you'll practice Bayes' Theorem in some simple word problems. \n",
    "\n",
    "## Objectives\n",
    "In this lab you will be able to: \n",
    "\n",
    "- Use Bayes' theorem to determine the probability of specific events "
   ]
  },
  {
   "cell_type": "markdown",
   "metadata": {},
   "source": [
    "## Define a custom function for Bayes' theorem\n",
    "\n",
    "To start, write a function, `bayes()`, which takes in the probability of A, the probability of B, and the probability of B given A. From this, the function should then return the conditional probability of A, given that B is true."
   ]
  },
  {
   "cell_type": "code",
   "execution_count": 1,
   "metadata": {},
   "outputs": [],
   "source": [
    "def bayes(P_a, P_b, P_b_given_a):\n",
    "    # Your code here\n",
    "    P_a_given_b = (P_b_given_a * P_a) / P_b\n",
    "    return P_a_given_b"
   ]
  },
  {
   "cell_type": "markdown",
   "metadata": {},
   "source": [
    "## Skin Cancer\n",
    "\n",
    "After a physical exam, a doctor observes a blemish on a client's arm. The doctor is concerned that the blemish could be cancerous, but tells the patient to be calm and that it's probably benign. Of those with skin cancer, 100% have such blemishes. However, 20% of those without skin cancer also have such blemishes. If 15% of the population has skin cancer, what's the probability that this patient has skin cancer? \n",
    "\n",
    "> Hint: Be sure to calculate the overall rate of blemishes across the entire population."
   ]
  },
  {
   "cell_type": "code",
   "execution_count": 6,
   "metadata": {},
   "outputs": [
    {
     "data": {
      "text/plain": [
       "0.46875"
      ]
     },
     "execution_count": 6,
     "metadata": {},
     "output_type": "execute_result"
    }
   ],
   "source": [
    "# Your code here\n",
    "# Given values\n",
    "P_b_given_c = 1  # 100% of people with cancer have a blemish\n",
    "P_b_given_not_c = 0.2  # 20% of people without cancer have a blemish\n",
    "P_c = 0.15  # 15% of the population has skin cancer\n",
    "P_not_c = 1 - P_c  # 85% of the population does not have skin cancer\n",
    "def bayes_skin_cancer(P_b_given_c, P_b_given_not_c, P_c, P_not_c):\n",
    "        P_b = (P_b_given_c * P_c) + (P_b_given_not_c * P_not_c)\n",
    "        P_c_given_b = (P_b_given_c * P_c) / P_b\n",
    "        return P_c_given_b\n",
    "result = bayes_skin_cancer(P_b_given_c, P_b_given_not_c, P_c, P_not_c)\n",
    "result\n",
    "\n"
   ]
  },
  {
   "cell_type": "markdown",
   "metadata": {},
   "source": [
    "## Children\n",
    "\n",
    "A couple has two children, the older of which is a boy. What is the probability that they have two boys?"
   ]
  },
  {
   "cell_type": "code",
   "execution_count": 7,
   "metadata": {},
   "outputs": [
    {
     "data": {
      "text/plain": [
       "0.5"
      ]
     },
     "execution_count": 7,
     "metadata": {},
     "output_type": "execute_result"
    }
   ],
   "source": [
    "# Your solution P(2boys|older child is a boy)\n",
    "def probability_two_boys_given_older_is_boy():\n",
    "    # There are two equally likelihood outcomes: BB, BG\n",
    "    # Out of these two outcomes, only one corresponds to having two boys.\n",
    "    return 1 / 2  # 50%\n",
    "\n",
    "# Calculate the probability\n",
    "result = probability_two_boys_given_older_is_boy()\n",
    "result"
   ]
  },
  {
   "cell_type": "markdown",
   "metadata": {},
   "source": [
    "## A diagnostic test\n",
    "\n",
    "A diagnostic test is advertised as being 99% accurate \n",
    "\n",
    "* If a patient has the disease, they  will test positive 99% of the time \n",
    "\n",
    "* If they don't have the disease, they will test negative 99% of the time  \n",
    "\n",
    "* 1% of all people have this disease \n",
    "\n",
    "If a patient tests positive, what is the probability that they actually have the disease?"
   ]
  },
  {
   "cell_type": "code",
   "execution_count": 8,
   "metadata": {},
   "outputs": [
    {
     "data": {
      "text/plain": [
       "0.5"
      ]
     },
     "execution_count": 8,
     "metadata": {},
     "output_type": "execute_result"
    }
   ],
   "source": [
    "# Your solution P(Disease | positive test)\n",
    "# Provided values\n",
    "P_positive_given_disease = 0.99  # Accuracy\n",
    "P_disease = 0.01  # Disease prevalence\n",
    "P_positive_given_no_disease = 0.01  # False positive rate\n",
    "P_no_disease = 1 - P_disease  # Probability of not having the disease\n",
    "\n",
    "def probability_disease_given_positive_test(P_positive_given_disease, P_disease, P_positive_given_no_disease, P_no_disease):\n",
    "    # Calculate the total probability of testing positive (P(Positive Test))\n",
    "    P_positive = (P_positive_given_disease * P_disease) + (P_positive_given_no_disease * P_no_disease)\n",
    "    \n",
    "    # Apply Bayes' Theorem to calculate P(Disease | Positive Test)\n",
    "    P_disease_given_positive = (P_positive_given_disease * P_disease) / P_positive\n",
    "    \n",
    "    return P_disease_given_positive\n",
    "result = probability_disease_given_positive_test(P_positive_given_disease, P_disease, P_positive_given_no_disease, P_no_disease)\n",
    "result\n"
   ]
  },
  {
   "cell_type": "markdown",
   "metadata": {},
   "source": [
    "## Summary \n",
    "\n",
    "In this lab, you practiced a few simple examples of Bayesian logic and how you can add prior information to update your beliefs about the chance of events."
   ]
  }
 ],
 "metadata": {
  "kernelspec": {
   "display_name": "Python 3",
   "language": "python",
   "name": "python3"
  },
  "language_info": {
   "codemirror_mode": {
    "name": "ipython",
    "version": 3
   },
   "file_extension": ".py",
   "mimetype": "text/x-python",
   "name": "python",
   "nbconvert_exporter": "python",
   "pygments_lexer": "ipython3",
   "version": "3.8.5"
  }
 },
 "nbformat": 4,
 "nbformat_minor": 2
}
